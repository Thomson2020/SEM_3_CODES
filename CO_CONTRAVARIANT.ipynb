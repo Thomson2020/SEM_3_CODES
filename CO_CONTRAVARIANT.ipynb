{
  "nbformat": 4,
  "nbformat_minor": 0,
  "metadata": {
    "colab": {
      "provenance": [],
      "authorship_tag": "ABX9TyOZ4QY8gp9UUv704hbuXnlU",
      "include_colab_link": true
    },
    "kernelspec": {
      "name": "python3",
      "display_name": "Python 3"
    },
    "language_info": {
      "name": "python"
    }
  },
  "cells": [
    {
      "cell_type": "markdown",
      "metadata": {
        "id": "view-in-github",
        "colab_type": "text"
      },
      "source": [
        "<a href=\"https://colab.research.google.com/github/Thomson2020/SEM_3_CODES/blob/main/CO_CONTRAVARIANT.ipynb\" target=\"_parent\"><img src=\"https://colab.research.google.com/assets/colab-badge.svg\" alt=\"Open In Colab\"/></a>"
      ]
    },
    {
      "cell_type": "code",
      "source": [
        "import sympy\n",
        "from einsteinpy.symbolic import ChristoffelSymbols, RiemannCurvatureTensor\n",
        "from einsteinpy.symbolic.predefined import Schwarzschild\n",
        "\n",
        "sympy.init_printing()"
      ],
      "metadata": {
        "id": "exFE-4kvq-46"
      },
      "execution_count": null,
      "outputs": []
    },
    {
      "cell_type": "code",
      "source": [
        "sch = Schwarzschild()\n",
        "sch.tensor()"
      ],
      "metadata": {
        "colab": {
          "base_uri": "https://localhost:8080/",
          "height": 114
        },
        "id": "gQwYgsm_9uA1",
        "outputId": "bb6f9060-ab07-42a8-c6fa-5d92759e0860"
      },
      "execution_count": null,
      "outputs": [
        {
          "output_type": "execute_result",
          "data": {
            "text/plain": [
              "⎡    rₛ                                 ⎤\n",
              "⎢1 - ──       0        0         0      ⎥\n",
              "⎢    r                                  ⎥\n",
              "⎢                                       ⎥\n",
              "⎢            -1                         ⎥\n",
              "⎢  0     ───────────   0         0      ⎥\n",
              "⎢         2 ⎛    rₛ⎞                    ⎥\n",
              "⎢        c ⋅⎜1 - ──⎟                    ⎥\n",
              "⎢           ⎝    r ⎠                    ⎥\n",
              "⎢                                       ⎥\n",
              "⎢                       2               ⎥\n",
              "⎢                     -r                ⎥\n",
              "⎢  0          0       ────       0      ⎥\n",
              "⎢                       2               ⎥\n",
              "⎢                      c                ⎥\n",
              "⎢                                       ⎥\n",
              "⎢                             2    2    ⎥\n",
              "⎢                           -r ⋅sin (θ) ⎥\n",
              "⎢  0          0        0    ────────────⎥\n",
              "⎢                                 2     ⎥\n",
              "⎣                                c      ⎦"
            ],
            "text/latex": "$\\displaystyle \\left[\\begin{matrix}1 - \\frac{r_{s}}{r} & 0 & 0 & 0\\\\0 & - \\frac{1}{c^{2} \\left(1 - \\frac{r_{s}}{r}\\right)} & 0 & 0\\\\0 & 0 & - \\frac{r^{2}}{c^{2}} & 0\\\\0 & 0 & 0 & - \\frac{r^{2} \\sin^{2}{\\left(\\theta \\right)}}{c^{2}}\\end{matrix}\\right]$"
          },
          "metadata": {},
          "execution_count": 4
        }
      ]
    },
    {
      "cell_type": "code",
      "source": [
        "sch_inv = sch.inv()\n",
        "sch_inv.tensor()"
      ],
      "metadata": {
        "colab": {
          "base_uri": "https://localhost:8080/",
          "height": 113
        },
        "id": "3wPNaU0f9wj5",
        "outputId": "6816f9d3-22ec-41aa-8e03-f636802a9c2b"
      },
      "execution_count": null,
      "outputs": [
        {
          "output_type": "execute_result",
          "data": {
            "text/plain": [
              "⎡  r                                   ⎤\n",
              "⎢──────       0         0        0     ⎥\n",
              "⎢r - rₛ                                ⎥\n",
              "⎢                                      ⎥\n",
              "⎢         2                            ⎥\n",
              "⎢        c ⋅(-r + rₛ)                  ⎥\n",
              "⎢  0     ────────────   0        0     ⎥\n",
              "⎢             r                        ⎥\n",
              "⎢                                      ⎥\n",
              "⎢                        2             ⎥\n",
              "⎢                      -c              ⎥\n",
              "⎢  0          0        ────      0     ⎥\n",
              "⎢                        2             ⎥\n",
              "⎢                       r              ⎥\n",
              "⎢                                      ⎥\n",
              "⎢                                 2    ⎥\n",
              "⎢                               -c     ⎥\n",
              "⎢  0          0         0    ──────────⎥\n",
              "⎢                             2    2   ⎥\n",
              "⎣                            r ⋅sin (θ)⎦"
            ],
            "text/latex": "$\\displaystyle \\left[\\begin{matrix}\\frac{r}{r - r_{s}} & 0 & 0 & 0\\\\0 & \\frac{c^{2} \\left(- r + r_{s}\\right)}{r} & 0 & 0\\\\0 & 0 & - \\frac{c^{2}}{r^{2}} & 0\\\\0 & 0 & 0 & - \\frac{c^{2}}{r^{2} \\sin^{2}{\\left(\\theta \\right)}}\\end{matrix}\\right]$"
          },
          "metadata": {},
          "execution_count": 5
        }
      ]
    },
    {
      "cell_type": "code",
      "source": [
        "sch.order"
      ],
      "metadata": {
        "colab": {
          "base_uri": "https://localhost:8080/",
          "height": 37
        },
        "id": "YJKm-c6L91Ko",
        "outputId": "3d0a1657-9a8e-425d-82ac-480583dd128f"
      },
      "execution_count": null,
      "outputs": [
        {
          "output_type": "execute_result",
          "data": {
            "text/plain": [
              "2"
            ],
            "text/latex": "$\\displaystyle 2$"
          },
          "metadata": {},
          "execution_count": 19
        }
      ]
    },
    {
      "cell_type": "code",
      "source": [
        "sch.config"
      ],
      "metadata": {
        "colab": {
          "base_uri": "https://localhost:8080/",
          "height": 35
        },
        "id": "PEpFFgZr9236",
        "outputId": "48b72f65-fe25-4b93-f3de-59885bd9fbe5"
      },
      "execution_count": null,
      "outputs": [
        {
          "output_type": "execute_result",
          "data": {
            "text/plain": [
              "'ll'"
            ],
            "application/vnd.google.colaboratory.intrinsic+json": {
              "type": "string"
            }
          },
          "metadata": {},
          "execution_count": 7
        }
      ]
    },
    {
      "cell_type": "code",
      "source": [
        "chr = ChristoffelSymbols.from_metric(sch_inv) # can be initialized from sch also\n",
        "chr.tensor()"
      ],
      "metadata": {
        "colab": {
          "base_uri": "https://localhost:8080/",
          "height": 134
        },
        "id": "hBFnY06j95Yv",
        "outputId": "93acd675-52df-4f45-8bff-cbb423f6d5ac"
      },
      "execution_count": null,
      "outputs": [
        {
          "output_type": "execute_result",
          "data": {
            "text/plain": [
              "⎡                                    ⎡    ⎛     2       2⎞                                         ↪\n",
              "⎢                                    ⎢-rₛ⋅⎝- r⋅c  + rₛ⋅c ⎠                                         ↪\n",
              "⎢                                    ⎢─────────────────────           0                 0          ↪\n",
              "⎢                                    ⎢           3                                                 ↪\n",
              "⎢                                    ⎢        2⋅r                                                  ↪\n",
              "⎢                                    ⎢                                                             ↪\n",
              "⎢                                    ⎢                          ⎛     2       2⎞                   ↪\n",
              "⎢⎡                   rₛ           ⎤  ⎢                       rₛ⋅⎝- r⋅c  + rₛ⋅c ⎠                   ↪\n",
              "⎢⎢     0        ────────────  0  0⎥  ⎢          0            ───────────────────        0          ↪\n",
              "⎢⎢              2⋅r⋅(r - rₛ)      ⎥  ⎢                                        2                    ↪\n",
              "⎢⎢                                ⎥  ⎢                           3  2 ⎛    rₛ⎞                     ↪\n",
              "⎢⎢     rₛ                         ⎥  ⎢                        2⋅r ⋅c ⋅⎜1 - ──⎟                     ↪\n",
              "⎢⎢────────────       0        0  0⎥  ⎢                                ⎝    r ⎠                     ↪\n",
              "⎢⎢2⋅r⋅(r - rₛ)                    ⎥  ⎢                                                             ↪\n",
              "⎢⎢                                ⎥  ⎢                                                 2       2   ↪\n",
              "⎢⎢     0             0        0  0⎥  ⎢                                            - r⋅c  + rₛ⋅c    ↪\n",
              "⎢⎢                                ⎥  ⎢          0                     0           ──────────────   ↪\n",
              "⎢⎣     0             0        0  0⎦  ⎢                                                   2         ↪\n",
              "⎢                                    ⎢                                                  c          ↪\n",
              "⎢                                    ⎢                                                             ↪\n",
              "⎢                                    ⎢                                                             ↪\n",
              "⎢                                    ⎢                                                             ↪\n",
              "⎢                                    ⎢          0                     0                 0          ↪\n",
              "⎢                                    ⎢                                                             ↪\n",
              "⎣                                    ⎣                                                             ↪\n",
              "\n",
              "↪                         ⎤                                                   ⎤\n",
              "↪                         ⎥                                                   ⎥\n",
              "↪            0            ⎥                                                   ⎥\n",
              "↪                         ⎥                                                   ⎥\n",
              "↪                         ⎥                                                   ⎥\n",
              "↪                         ⎥                                                   ⎥\n",
              "↪                         ⎥                             ⎡0  0    0       0   ⎤⎥\n",
              "↪                         ⎥  ⎡0  0  0        0       ⎤  ⎢                    ⎥⎥\n",
              "↪            0            ⎥  ⎢                       ⎥  ⎢                1   ⎥⎥\n",
              "↪                         ⎥  ⎢      1                ⎥  ⎢0  0    0       ─   ⎥⎥\n",
              "↪                         ⎥  ⎢0  0  ─        0       ⎥  ⎢                r   ⎥⎥\n",
              "↪                         ⎥  ⎢      r                ⎥  ⎢                    ⎥⎥\n",
              "↪                         ⎥  ⎢                       ⎥  ⎢              cos(θ)⎥⎥\n",
              "↪                         ⎥  ⎢   1                   ⎥  ⎢0  0    0     ──────⎥⎥\n",
              "↪                         ⎥  ⎢0  ─  0        0       ⎥  ⎢              sin(θ)⎥⎥\n",
              "↪                         ⎥  ⎢   r                   ⎥  ⎢                    ⎥⎥\n",
              "↪            0            ⎥  ⎢                       ⎥  ⎢   1  cos(θ)        ⎥⎥\n",
              "↪                         ⎥  ⎣0  0  0  -sin(θ)⋅cos(θ)⎦  ⎢0  ─  ──────    0   ⎥⎥\n",
              "↪                         ⎥                             ⎣   r  sin(θ)        ⎦⎥\n",
              "↪                         ⎥                                                   ⎥\n",
              "↪ ⎛     2       2⎞    2   ⎥                                                   ⎥\n",
              "↪ ⎝- r⋅c  + rₛ⋅c ⎠⋅sin (θ)⎥                                                   ⎥\n",
              "↪ ────────────────────────⎥                                                   ⎥\n",
              "↪             2           ⎥                                                   ⎥\n",
              "↪            c            ⎦                                                   ⎦"
            ],
            "text/latex": "$\\displaystyle \\left[\\begin{matrix}\\left[\\begin{matrix}0 & \\frac{r_{s}}{2 r \\left(r - r_{s}\\right)} & 0 & 0\\\\\\frac{r_{s}}{2 r \\left(r - r_{s}\\right)} & 0 & 0 & 0\\\\0 & 0 & 0 & 0\\\\0 & 0 & 0 & 0\\end{matrix}\\right] & \\left[\\begin{matrix}- \\frac{r_{s} \\left(- r c^{2} + r_{s} c^{2}\\right)}{2 r^{3}} & 0 & 0 & 0\\\\0 & \\frac{r_{s} \\left(- r c^{2} + r_{s} c^{2}\\right)}{2 r^{3} c^{2} \\left(1 - \\frac{r_{s}}{r}\\right)^{2}} & 0 & 0\\\\0 & 0 & \\frac{- r c^{2} + r_{s} c^{2}}{c^{2}} & 0\\\\0 & 0 & 0 & \\frac{\\left(- r c^{2} + r_{s} c^{2}\\right) \\sin^{2}{\\left(\\theta \\right)}}{c^{2}}\\end{matrix}\\right] & \\left[\\begin{matrix}0 & 0 & 0 & 0\\\\0 & 0 & \\frac{1}{r} & 0\\\\0 & \\frac{1}{r} & 0 & 0\\\\0 & 0 & 0 & - \\sin{\\left(\\theta \\right)} \\cos{\\left(\\theta \\right)}\\end{matrix}\\right] & \\left[\\begin{matrix}0 & 0 & 0 & 0\\\\0 & 0 & 0 & \\frac{1}{r}\\\\0 & 0 & 0 & \\frac{\\cos{\\left(\\theta \\right)}}{\\sin{\\left(\\theta \\right)}}\\\\0 & \\frac{1}{r} & \\frac{\\cos{\\left(\\theta \\right)}}{\\sin{\\left(\\theta \\right)}} & 0\\end{matrix}\\right]\\end{matrix}\\right]$"
          },
          "metadata": {},
          "execution_count": 8
        }
      ]
    },
    {
      "cell_type": "code",
      "source": [
        "chr.config"
      ],
      "metadata": {
        "colab": {
          "base_uri": "https://localhost:8080/",
          "height": 35
        },
        "id": "3H6HAjUQ97TV",
        "outputId": "3b3873c9-1d9b-4469-d62c-4402309d690a"
      },
      "execution_count": null,
      "outputs": [
        {
          "output_type": "execute_result",
          "data": {
            "text/plain": [
              "'ull'"
            ],
            "application/vnd.google.colaboratory.intrinsic+json": {
              "type": "string"
            }
          },
          "metadata": {},
          "execution_count": 9
        }
      ]
    },
    {
      "cell_type": "code",
      "source": [
        "new_chr = chr.change_config('lll') # changing the configuration to (covariant, covariant, covariant)\n",
        "new_chr.tensor()"
      ],
      "metadata": {
        "colab": {
          "base_uri": "https://localhost:8080/",
          "height": 112
        },
        "id": "YrFW6mDM99WP",
        "outputId": "3c0f4f77-e7c7-49d9-ff04-35e76b0dffc3"
      },
      "execution_count": null,
      "outputs": [
        {
          "output_type": "execute_result",
          "data": {
            "text/plain": [
              "⎡                    ⎡-rₛ                                ⎤                                         ↪\n",
              "⎢                    ⎢────        0         0       0    ⎥                              ⎡0       0 ↪\n",
              "⎢                    ⎢   2                               ⎥  ⎡0   0    0        0     ⎤  ⎢          ↪\n",
              "⎢                    ⎢2⋅r                                ⎥  ⎢                        ⎥  ⎢          ↪\n",
              "⎢⎡       rₛ       ⎤  ⎢                                   ⎥  ⎢        -r              ⎥  ⎢          ↪\n",
              "⎢⎢ 0    ────  0  0⎥  ⎢            rₛ                     ⎥  ⎢0   0   ───       0     ⎥  ⎢0       0 ↪\n",
              "⎢⎢         2      ⎥  ⎢ 0    ──────────────  0       0    ⎥  ⎢         2              ⎥  ⎢          ↪\n",
              "⎢⎢      2⋅r       ⎥  ⎢         2         2               ⎥  ⎢        c               ⎥  ⎢          ↪\n",
              "⎢⎢                ⎥  ⎢      2⋅c ⋅(r - rₛ)                ⎥  ⎢                        ⎥  ⎢          ↪\n",
              "⎢⎢ rₛ             ⎥  ⎢                                   ⎥  ⎢   -r                   ⎥  ⎢          ↪\n",
              "⎢⎢────   0    0  0⎥  ⎢                      r            ⎥  ⎢0  ───   0        0     ⎥  ⎢          ↪\n",
              "⎢⎢   2            ⎥  ⎢ 0          0         ──      0    ⎥  ⎢    2                   ⎥  ⎢0       0 ↪\n",
              "⎢⎢2⋅r             ⎥  ⎢                       2           ⎥  ⎢   c                    ⎥  ⎢          ↪\n",
              "⎢⎢                ⎥  ⎢                      c            ⎥  ⎢                        ⎥  ⎢          ↪\n",
              "⎢⎢ 0     0    0  0⎥  ⎢                                   ⎥  ⎢              2         ⎥  ⎢          ↪\n",
              "⎢⎢                ⎥  ⎢                               2   ⎥  ⎢             r ⋅sin(2⋅θ)⎥  ⎢          ↪\n",
              "⎢⎣ 0     0    0  0⎦  ⎢                          r⋅sin (θ)⎥  ⎢0   0    0   ───────────⎥  ⎢   -r⋅sin ↪\n",
              "⎢                    ⎢ 0          0         0   ─────────⎥  ⎢                   2    ⎥  ⎢0  ────── ↪\n",
              "⎢                    ⎢                              2    ⎥  ⎣                2⋅c     ⎦  ⎢        2 ↪\n",
              "⎣                    ⎣                             c     ⎦                              ⎣       c  ↪\n",
              "\n",
              "↪                                     ⎤\n",
              "↪              0              0      ⎤⎥\n",
              "↪                                    ⎥⎥\n",
              "↪                              2     ⎥⎥\n",
              "↪                        -r⋅sin (θ)  ⎥⎥\n",
              "↪              0         ─────────── ⎥⎥\n",
              "↪                             2      ⎥⎥\n",
              "↪                            c       ⎥⎥\n",
              "↪                                    ⎥⎥\n",
              "↪                         2          ⎥⎥\n",
              "↪                       -r ⋅sin(2⋅θ) ⎥⎥\n",
              "↪              0        ─────────────⎥⎥\n",
              "↪                              2     ⎥⎥\n",
              "↪                           2⋅c      ⎥⎥\n",
              "↪                                    ⎥⎥\n",
              "↪ 2        2                         ⎥⎥\n",
              "↪  (θ)   -r ⋅sin(2⋅θ)                ⎥⎥\n",
              "↪ ─────  ─────────────        0      ⎥⎥\n",
              "↪               2                    ⎥⎥\n",
              "↪            2⋅c                     ⎦⎦"
            ],
            "text/latex": "$\\displaystyle \\left[\\begin{matrix}\\left[\\begin{matrix}0 & \\frac{r_{s}}{2 r^{2}} & 0 & 0\\\\\\frac{r_{s}}{2 r^{2}} & 0 & 0 & 0\\\\0 & 0 & 0 & 0\\\\0 & 0 & 0 & 0\\end{matrix}\\right] & \\left[\\begin{matrix}- \\frac{r_{s}}{2 r^{2}} & 0 & 0 & 0\\\\0 & \\frac{r_{s}}{2 c^{2} \\left(r - r_{s}\\right)^{2}} & 0 & 0\\\\0 & 0 & \\frac{r}{c^{2}} & 0\\\\0 & 0 & 0 & \\frac{r \\sin^{2}{\\left(\\theta \\right)}}{c^{2}}\\end{matrix}\\right] & \\left[\\begin{matrix}0 & 0 & 0 & 0\\\\0 & 0 & - \\frac{r}{c^{2}} & 0\\\\0 & - \\frac{r}{c^{2}} & 0 & 0\\\\0 & 0 & 0 & \\frac{r^{2} \\sin{\\left(2 \\theta \\right)}}{2 c^{2}}\\end{matrix}\\right] & \\left[\\begin{matrix}0 & 0 & 0 & 0\\\\0 & 0 & 0 & - \\frac{r \\sin^{2}{\\left(\\theta \\right)}}{c^{2}}\\\\0 & 0 & 0 & - \\frac{r^{2} \\sin{\\left(2 \\theta \\right)}}{2 c^{2}}\\\\0 & - \\frac{r \\sin^{2}{\\left(\\theta \\right)}}{c^{2}} & - \\frac{r^{2} \\sin{\\left(2 \\theta \\right)}}{2 c^{2}} & 0\\end{matrix}\\right]\\end{matrix}\\right]$"
          },
          "metadata": {},
          "execution_count": 10
        }
      ]
    },
    {
      "cell_type": "code",
      "source": [
        "new_chr.config"
      ],
      "metadata": {
        "colab": {
          "base_uri": "https://localhost:8080/",
          "height": 35
        },
        "id": "POvnAZl8-DcB",
        "outputId": "73a3b62e-c9d8-462d-f00e-73ad5d5437b7"
      },
      "execution_count": null,
      "outputs": [
        {
          "output_type": "execute_result",
          "data": {
            "text/plain": [
              "'lll'"
            ],
            "application/vnd.google.colaboratory.intrinsic+json": {
              "type": "string"
            }
          },
          "metadata": {},
          "execution_count": 11
        }
      ]
    },
    {
      "cell_type": "code",
      "source": [
        "new_chr2 = new_chr.change_config('ull')\n",
        "new_chr2.tensor()"
      ],
      "metadata": {
        "colab": {
          "base_uri": "https://localhost:8080/",
          "height": 106
        },
        "id": "j7H-vJ_B-FYI",
        "outputId": "23e24e5d-935d-4d20-9554-1108394ccc96"
      },
      "execution_count": null,
      "outputs": [
        {
          "output_type": "execute_result",
          "data": {
            "text/plain": [
              "⎡                                    ⎡    2                                                   ⎤    ↪\n",
              "⎢                                    ⎢rₛ⋅c ⋅(r - rₛ)                                          ⎥  ⎡ ↪\n",
              "⎢⎡                   rₛ           ⎤  ⎢──────────────       0           0             0        ⎥  ⎢ ↪\n",
              "⎢⎢     0        ────────────  0  0⎥  ⎢        3                                               ⎥  ⎢ ↪\n",
              "⎢⎢              2⋅r⋅(r - rₛ)      ⎥  ⎢     2⋅r                                                ⎥  ⎢ ↪\n",
              "⎢⎢                                ⎥  ⎢                                                        ⎥  ⎢ ↪\n",
              "⎢⎢     rₛ                         ⎥  ⎢                    -rₛ                                 ⎥  ⎢ ↪\n",
              "⎢⎢────────────       0        0  0⎥  ⎢      0         ────────────     0             0        ⎥  ⎢ ↪\n",
              "⎢⎢2⋅r⋅(r - rₛ)                    ⎥  ⎢                2⋅r⋅(r - rₛ)                            ⎥  ⎢ ↪\n",
              "⎢⎢                                ⎥  ⎢                                                        ⎥  ⎢ ↪\n",
              "⎢⎢     0             0        0  0⎥  ⎢      0              0        -r + rₛ          0        ⎥  ⎢ ↪\n",
              "⎢⎢                                ⎥  ⎢                                                        ⎥  ⎢ ↪\n",
              "⎢⎣     0             0        0  0⎦  ⎢                                                    2   ⎥  ⎢ ↪\n",
              "⎣                                    ⎣      0              0           0     (-r + rₛ)⋅sin (θ)⎦  ⎣ ↪\n",
              "\n",
              "↪                                             ⎤\n",
              "↪ 0  0  0      0     ⎤  ⎡0  0    0       0   ⎤⎥\n",
              "↪                    ⎥  ⎢                    ⎥⎥\n",
              "↪       1            ⎥  ⎢                1   ⎥⎥\n",
              "↪ 0  0  ─      0     ⎥  ⎢0  0    0       ─   ⎥⎥\n",
              "↪       r            ⎥  ⎢                r   ⎥⎥\n",
              "↪                    ⎥  ⎢                    ⎥⎥\n",
              "↪    1               ⎥  ⎢                1   ⎥⎥\n",
              "↪ 0  ─  0      0     ⎥  ⎢0  0    0     ──────⎥⎥\n",
              "↪    r               ⎥  ⎢              tan(θ)⎥⎥\n",
              "↪                    ⎥  ⎢                    ⎥⎥\n",
              "↪          -sin(2⋅θ) ⎥  ⎢   1    1           ⎥⎥\n",
              "↪ 0  0  0  ──────────⎥  ⎢0  ─  ──────    0   ⎥⎥\n",
              "↪              2     ⎦  ⎣   r  tan(θ)        ⎦⎦"
            ],
            "text/latex": "$\\displaystyle \\left[\\begin{matrix}\\left[\\begin{matrix}0 & \\frac{r_{s}}{2 r \\left(r - r_{s}\\right)} & 0 & 0\\\\\\frac{r_{s}}{2 r \\left(r - r_{s}\\right)} & 0 & 0 & 0\\\\0 & 0 & 0 & 0\\\\0 & 0 & 0 & 0\\end{matrix}\\right] & \\left[\\begin{matrix}\\frac{r_{s} c^{2} \\left(r - r_{s}\\right)}{2 r^{3}} & 0 & 0 & 0\\\\0 & - \\frac{r_{s}}{2 r \\left(r - r_{s}\\right)} & 0 & 0\\\\0 & 0 & - r + r_{s} & 0\\\\0 & 0 & 0 & \\left(- r + r_{s}\\right) \\sin^{2}{\\left(\\theta \\right)}\\end{matrix}\\right] & \\left[\\begin{matrix}0 & 0 & 0 & 0\\\\0 & 0 & \\frac{1}{r} & 0\\\\0 & \\frac{1}{r} & 0 & 0\\\\0 & 0 & 0 & - \\frac{\\sin{\\left(2 \\theta \\right)}}{2}\\end{matrix}\\right] & \\left[\\begin{matrix}0 & 0 & 0 & 0\\\\0 & 0 & 0 & \\frac{1}{r}\\\\0 & 0 & 0 & \\frac{1}{\\tan{\\left(\\theta \\right)}}\\\\0 & \\frac{1}{r} & \\frac{1}{\\tan{\\left(\\theta \\right)}} & 0\\end{matrix}\\right]\\end{matrix}\\right]$"
          },
          "metadata": {},
          "execution_count": 12
        }
      ]
    },
    {
      "cell_type": "code",
      "source": [
        "rm = RiemannCurvatureTensor.from_christoffels(new_chr2)\n",
        "rm[0,0,:,:]"
      ],
      "metadata": {
        "colab": {
          "base_uri": "https://localhost:8080/",
          "height": 98
        },
        "id": "nwghwW_i-HiR",
        "outputId": "ee222d22-160a-4d82-e40a-508ee1412fcd"
      },
      "execution_count": null,
      "outputs": [
        {
          "output_type": "execute_result",
          "data": {
            "text/plain": [
              "⎡0  0  0  0⎤\n",
              "⎢          ⎥\n",
              "⎢0  0  0  0⎥\n",
              "⎢          ⎥\n",
              "⎢0  0  0  0⎥\n",
              "⎢          ⎥\n",
              "⎣0  0  0  0⎦"
            ],
            "text/latex": "$\\displaystyle \\left[\\begin{matrix}0 & 0 & 0 & 0\\\\0 & 0 & 0 & 0\\\\0 & 0 & 0 & 0\\\\0 & 0 & 0 & 0\\end{matrix}\\right]$"
          },
          "metadata": {},
          "execution_count": 13
        }
      ]
    },
    {
      "cell_type": "code",
      "source": [
        "rm.config"
      ],
      "metadata": {
        "id": "isWy_ioH-JLI",
        "colab": {
          "base_uri": "https://localhost:8080/",
          "height": 35
        },
        "outputId": "ffada554-b7be-4167-fea1-28640c62e104"
      },
      "execution_count": null,
      "outputs": [
        {
          "output_type": "execute_result",
          "data": {
            "text/plain": [
              "'ulll'"
            ],
            "application/vnd.google.colaboratory.intrinsic+json": {
              "type": "string"
            }
          },
          "metadata": {},
          "execution_count": 14
        }
      ]
    },
    {
      "cell_type": "code",
      "source": [
        "rm2 = rm.change_config(\"uuuu\")\n",
        "rm2[0,0,:,:]"
      ],
      "metadata": {
        "id": "INez2gvd-Kpw",
        "colab": {
          "base_uri": "https://localhost:8080/",
          "height": 98
        },
        "outputId": "713ddf50-fa31-427c-ab32-965c26c57709"
      },
      "execution_count": null,
      "outputs": [
        {
          "output_type": "execute_result",
          "data": {
            "text/plain": [
              "⎡0  0  0  0⎤\n",
              "⎢          ⎥\n",
              "⎢0  0  0  0⎥\n",
              "⎢          ⎥\n",
              "⎢0  0  0  0⎥\n",
              "⎢          ⎥\n",
              "⎣0  0  0  0⎦"
            ],
            "text/latex": "$\\displaystyle \\left[\\begin{matrix}0 & 0 & 0 & 0\\\\0 & 0 & 0 & 0\\\\0 & 0 & 0 & 0\\\\0 & 0 & 0 & 0\\end{matrix}\\right]$"
          },
          "metadata": {},
          "execution_count": 15
        }
      ]
    },
    {
      "cell_type": "code",
      "source": [
        "rm3 = rm2.change_config(\"lulu\")\n",
        "rm3[0,0,:,:]"
      ],
      "metadata": {
        "id": "TEnzCtW8-Miw",
        "colab": {
          "base_uri": "https://localhost:8080/",
          "height": 98
        },
        "outputId": "f318f212-b1c1-40e9-be81-53f0aab07edf"
      },
      "execution_count": null,
      "outputs": [
        {
          "output_type": "execute_result",
          "data": {
            "text/plain": [
              "⎡0  0  0  0⎤\n",
              "⎢          ⎥\n",
              "⎢0  0  0  0⎥\n",
              "⎢          ⎥\n",
              "⎢0  0  0  0⎥\n",
              "⎢          ⎥\n",
              "⎣0  0  0  0⎦"
            ],
            "text/latex": "$\\displaystyle \\left[\\begin{matrix}0 & 0 & 0 & 0\\\\0 & 0 & 0 & 0\\\\0 & 0 & 0 & 0\\\\0 & 0 & 0 & 0\\end{matrix}\\right]$"
          },
          "metadata": {},
          "execution_count": 16
        }
      ]
    },
    {
      "cell_type": "code",
      "source": [
        "rm4 = rm3.change_config(\"ulll\")\n",
        "rm4.simplify()\n",
        "rm4[0,0,:,:]"
      ],
      "metadata": {
        "id": "I9NtwPzG-Nus",
        "colab": {
          "base_uri": "https://localhost:8080/",
          "height": 98
        },
        "outputId": "2d8d4817-0574-4536-883b-94c52c0e3c8a"
      },
      "execution_count": null,
      "outputs": [
        {
          "output_type": "execute_result",
          "data": {
            "text/plain": [
              "⎡0  0  0  0⎤\n",
              "⎢          ⎥\n",
              "⎢0  0  0  0⎥\n",
              "⎢          ⎥\n",
              "⎢0  0  0  0⎥\n",
              "⎢          ⎥\n",
              "⎣0  0  0  0⎦"
            ],
            "text/latex": "$\\displaystyle \\left[\\begin{matrix}0 & 0 & 0 & 0\\\\0 & 0 & 0 & 0\\\\0 & 0 & 0 & 0\\\\0 & 0 & 0 & 0\\end{matrix}\\right]$"
          },
          "metadata": {},
          "execution_count": 17
        }
      ]
    }
  ]
}